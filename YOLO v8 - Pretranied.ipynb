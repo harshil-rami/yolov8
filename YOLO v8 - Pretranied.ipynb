{
 "cells": [
  {
   "cell_type": "markdown",
   "id": "88a8af7f",
   "metadata": {},
   "source": [
    "#### Modes:\n",
    "    \n",
    "    1. train\n",
    "    2. val\n",
    "    3. predict\n",
    "    \n",
    "  \n",
    "#### Task:\n",
    "    1. detect\n",
    "    2. segment\n",
    "    3. classify\n",
    "    \n",
    "    \n",
    "#### data\n",
    "    1. Format can differ for task type. Supports data.yaml, data_folder, dataset_name"
   ]
  },
  {
   "cell_type": "markdown",
   "id": "112cb268",
   "metadata": {},
   "source": [
    "### 1. Detection"
   ]
  },
  {
   "cell_type": "code",
   "execution_count": 11,
   "id": "1837a286",
   "metadata": {},
   "outputs": [
    {
     "name": "stderr",
     "output_type": "stream",
     "text": [
      "Downloading https://github.com/ultralytics/assets/releases/download/v0.0.0/yolov8n.pt to 'yolov8n.pt'...\n",
      "\n",
      "  0%|          | 0.00/6.23M [00:00<?, ?B/s]\n",
      "  2%|2         | 152k/6.23M [00:00<00:04, 1.55MB/s]\n",
      " 11%|#         | 696k/6.23M [00:00<00:01, 3.89MB/s]\n",
      " 17%|#6        | 1.05M/6.23M [00:00<00:01, 3.49MB/s]\n",
      " 31%|###1      | 1.96M/6.23M [00:00<00:00, 5.66MB/s]\n",
      " 43%|####2     | 2.66M/6.23M [00:00<00:00, 6.23MB/s]\n",
      " 53%|#####3    | 3.31M/6.23M [00:00<00:00, 6.39MB/s]\n",
      " 65%|######4   | 4.05M/6.23M [00:00<00:00, 6.77MB/s]\n",
      " 78%|#######7  | 4.84M/6.23M [00:00<00:00, 7.19MB/s]\n",
      " 89%|########8 | 5.54M/6.23M [00:00<00:00, 6.24MB/s]\n",
      "100%|##########| 6.23M/6.23M [00:01<00:00, 6.05MB/s]\n",
      "Ultralytics YOLOv8.0.182  Python-3.9.18 torch-2.0.1+cpu CPU (Intel Core(TM) i7-10750H 2.60GHz)\n",
      "YOLOv8n summary (fused): 168 layers, 3151904 parameters, 0 gradients\n",
      "\n",
      "image 1/1 C:\\Users\\Dell\\Downloads\\Computer_Vision\\YOLOv8\\1.jpg: 416x640 3 dogs, 2 bears, 139.5ms\n",
      "Speed: 4.0ms preprocess, 139.5ms inference, 3.0ms postprocess per image at shape (1, 3, 416, 640)\n",
      "Results saved to \u001b[1mc:\\users\\dell\\runs\\detect\\predict\u001b[0m\n",
      " Learn more at https://docs.ultralytics.com/modes/predict\n"
     ]
    }
   ],
   "source": [
    "!yolo task=detect mode=predict model=yolov8n.pt source=\"1.jpg\" "
   ]
  },
  {
   "cell_type": "markdown",
   "id": "07dde382",
   "metadata": {},
   "source": [
    "### 2. Segmentation"
   ]
  },
  {
   "cell_type": "code",
   "execution_count": 14,
   "id": "2363f3a0",
   "metadata": {},
   "outputs": [
    {
     "name": "stderr",
     "output_type": "stream",
     "text": [
      "Ultralytics YOLOv8.0.182  Python-3.9.18 torch-2.0.1+cpu CPU (Intel Core(TM) i7-10750H 2.60GHz)\n",
      "YOLOv8n-seg summary (fused): 195 layers, 3404320 parameters, 0 gradients\n",
      "\n",
      "image 1/1 C:\\Users\\Dell\\Downloads\\Computer_Vision\\YOLOv8\\1.jpg: 416x640 3 dogs, 1 bear, 234.0ms\n",
      "Speed: 3.0ms preprocess, 234.0ms inference, 8.0ms postprocess per image at shape (1, 3, 416, 640)\n",
      "Results saved to \u001b[1mc:\\users\\dell\\runs\\segment\\predict\u001b[0m\n",
      " Learn more at https://docs.ultralytics.com/modes/predict\n"
     ]
    }
   ],
   "source": [
    "!yolo task=segment mode=predict model=yolov8n-seg.pt source=\"1.jpg\""
   ]
  },
  {
   "cell_type": "markdown",
   "id": "4a53a89d",
   "metadata": {},
   "source": [
    "The above commandas are CLI commands which you can use if you want to directly run these models from command line only."
   ]
  },
  {
   "cell_type": "code",
   "execution_count": 6,
   "id": "4ed145ab",
   "metadata": {},
   "outputs": [
    {
     "name": "stderr",
     "output_type": "stream",
     "text": [
      "Downloading https://github.com/ultralytics/assets/releases/download/v0.0.0/yolov8n-seg.pt to 'yolov8n-seg.pt'...\n"
     ]
    },
    {
     "data": {
      "application/vnd.jupyter.widget-view+json": {
       "model_id": "70d05e4f9b1d49e6a59dcba4051a18ae",
       "version_major": 2,
       "version_minor": 0
      },
      "text/plain": [
       "  0%|          | 0.00/6.73M [00:00<?, ?B/s]"
      ]
     },
     "metadata": {},
     "output_type": "display_data"
    },
    {
     "name": "stderr",
     "output_type": "stream",
     "text": [
      "\n",
      "image 1/1 C:\\Users\\Dell\\Downloads\\Computer_Vision\\YOLOv8\\1.jpg: 416x640 3 dogs, 1 bear, 238.6ms\n",
      "Speed: 5.0ms preprocess, 238.6ms inference, 29.0ms postprocess per image at shape (1, 3, 416, 640)\n"
     ]
    },
    {
     "data": {
      "text/plain": [
       "[ultralytics.engine.results.Results object with attributes:\n",
       " \n",
       " boxes: ultralytics.engine.results.Boxes object\n",
       " keypoints: None\n",
       " masks: ultralytics.engine.results.Masks object\n",
       " names: {0: 'person', 1: 'bicycle', 2: 'car', 3: 'motorcycle', 4: 'airplane', 5: 'bus', 6: 'train', 7: 'truck', 8: 'boat', 9: 'traffic light', 10: 'fire hydrant', 11: 'stop sign', 12: 'parking meter', 13: 'bench', 14: 'bird', 15: 'cat', 16: 'dog', 17: 'horse', 18: 'sheep', 19: 'cow', 20: 'elephant', 21: 'bear', 22: 'zebra', 23: 'giraffe', 24: 'backpack', 25: 'umbrella', 26: 'handbag', 27: 'tie', 28: 'suitcase', 29: 'frisbee', 30: 'skis', 31: 'snowboard', 32: 'sports ball', 33: 'kite', 34: 'baseball bat', 35: 'baseball glove', 36: 'skateboard', 37: 'surfboard', 38: 'tennis racket', 39: 'bottle', 40: 'wine glass', 41: 'cup', 42: 'fork', 43: 'knife', 44: 'spoon', 45: 'bowl', 46: 'banana', 47: 'apple', 48: 'sandwich', 49: 'orange', 50: 'broccoli', 51: 'carrot', 52: 'hot dog', 53: 'pizza', 54: 'donut', 55: 'cake', 56: 'chair', 57: 'couch', 58: 'potted plant', 59: 'bed', 60: 'dining table', 61: 'toilet', 62: 'tv', 63: 'laptop', 64: 'mouse', 65: 'remote', 66: 'keyboard', 67: 'cell phone', 68: 'microwave', 69: 'oven', 70: 'toaster', 71: 'sink', 72: 'refrigerator', 73: 'book', 74: 'clock', 75: 'vase', 76: 'scissors', 77: 'teddy bear', 78: 'hair drier', 79: 'toothbrush'}\n",
       " orig_img: array([[[165, 174, 134],\n",
       "         [174, 183, 143],\n",
       "         [177, 186, 146],\n",
       "         ...,\n",
       "         [169, 171,  82],\n",
       "         [175, 177,  88],\n",
       "         [172, 174,  85]],\n",
       " \n",
       "        [[176, 185, 145],\n",
       "         [172, 181, 141],\n",
       "         [173, 182, 142],\n",
       "         ...,\n",
       "         [168, 170,  81],\n",
       "         [173, 175,  86],\n",
       "         [170, 172,  83]],\n",
       " \n",
       "        [[180, 189, 149],\n",
       "         [173, 182, 142],\n",
       "         [173, 182, 142],\n",
       "         ...,\n",
       "         [170, 171,  85],\n",
       "         [174, 176,  87],\n",
       "         [172, 174,  85]],\n",
       " \n",
       "        ...,\n",
       " \n",
       "        [[  6,  31,  27],\n",
       "         [  5,  30,  26],\n",
       "         [  6,  31,  27],\n",
       "         ...,\n",
       "         [ 81,  85,  79],\n",
       "         [ 79,  84,  75],\n",
       "         [ 79,  84,  75]],\n",
       " \n",
       "        [[  9,  35,  29],\n",
       "         [  8,  34,  28],\n",
       "         [  9,  35,  29],\n",
       "         ...,\n",
       "         [ 65,  69,  63],\n",
       "         [ 60,  65,  56],\n",
       "         [ 60,  65,  56]],\n",
       " \n",
       "        [[ 18,  44,  38],\n",
       "         [ 17,  43,  37],\n",
       "         [ 18,  44,  38],\n",
       "         ...,\n",
       "         [ 51,  55,  49],\n",
       "         [ 45,  50,  41],\n",
       "         [ 43,  48,  39]]], dtype=uint8)\n",
       " orig_shape: (1600, 2560)\n",
       " path: 'C:\\\\Users\\\\Dell\\\\Downloads\\\\Computer_Vision\\\\YOLOv8\\\\1.jpg'\n",
       " probs: None\n",
       " save_dir: None\n",
       " speed: {'preprocess': 5.008459091186523, 'inference': 238.5554313659668, 'postprocess': 29.001951217651367}]"
      ]
     },
     "execution_count": 6,
     "metadata": {},
     "output_type": "execute_result"
    }
   ],
   "source": [
    "from ultralytics import YOLO\n",
    "\n",
    "model = YOLO('yolov8n-seg.pt')\n",
    "model.predict(source='1.jpg')"
   ]
  },
  {
   "cell_type": "markdown",
   "id": "86c595ca",
   "metadata": {},
   "source": [
    "### 3. Classification"
   ]
  },
  {
   "cell_type": "code",
   "execution_count": 15,
   "id": "39fcd747",
   "metadata": {},
   "outputs": [
    {
     "name": "stderr",
     "output_type": "stream",
     "text": [
      "Downloading https://github.com/ultralytics/assets/releases/download/v0.0.0/yolov8n-cls.pt to 'yolov8n-cls.pt'...\n",
      "\n",
      "  0%|          | 0.00/5.28M [00:00<?, ?B/s]\n",
      "  2%|2         | 112k/5.28M [00:00<00:05, 1.04MB/s]\n",
      "  9%|9         | 496k/5.28M [00:00<00:02, 2.47MB/s]\n",
      " 17%|#7        | 944k/5.28M [00:00<00:01, 2.81MB/s]\n",
      " 30%|##9       | 1.56M/5.28M [00:00<00:00, 4.07MB/s]\n",
      " 47%|####6     | 2.46M/5.28M [00:00<00:00, 5.68MB/s]\n",
      " 60%|######    | 3.19M/5.28M [00:00<00:00, 6.28MB/s]\n",
      " 72%|#######2  | 3.81M/5.28M [00:00<00:00, 5.57MB/s]\n",
      " 86%|########6 | 4.56M/5.28M [00:00<00:00, 6.20MB/s]\n",
      " 98%|#########8| 5.18M/5.28M [00:01<00:00, 5.98MB/s]\n",
      "100%|##########| 5.28M/5.28M [00:01<00:00, 5.17MB/s]\n",
      "Ultralytics YOLOv8.0.182  Python-3.9.18 torch-2.0.1+cpu CPU (Intel Core(TM) i7-10750H 2.60GHz)\n",
      "YOLOv8n-cls summary (fused): 73 layers, 2715880 parameters, 0 gradients\n",
      "\n",
      "Downloading https://ultralytics.com/assets/Arial.ttf to 'C:\\Users\\Dell\\AppData\\Roaming\\Ultralytics\\Arial.ttf'...\n",
      "\n",
      "  0%|          | 0.00/755k [00:00<?, ?B/s]\n",
      " 22%|##2       | 168k/755k [00:00<00:00, 1.69MB/s]\n",
      " 77%|#######7  | 584k/755k [00:00<00:00, 3.14MB/s]\n",
      "100%|##########| 755k/755k [00:00<00:00, 3.47MB/s]\n",
      "image 1/1 C:\\Users\\Dell\\Downloads\\Computer_Vision\\YOLOv8\\1.jpg: 224x224 Irish_terrier 0.61, Airedale 0.10, Lakeland_terrier 0.06, golden_retriever 0.04, whippet 0.02, 17.5ms\n",
      "Speed: 1.0ms preprocess, 17.5ms inference, 0.0ms postprocess per image at shape (1, 3, 224, 224)\n",
      "Results saved to \u001b[1mc:\\users\\dell\\runs\\classify\\predict\u001b[0m\n",
      " Learn more at https://docs.ultralytics.com/modes/predict\n"
     ]
    }
   ],
   "source": [
    "!yolo task=classify mode=predict model=yolov8n-cls.pt source=\"1.jpg\""
   ]
  }
 ],
 "metadata": {
  "kernelspec": {
   "display_name": "Python 3 (ipykernel)",
   "language": "python",
   "name": "python3"
  },
  "language_info": {
   "codemirror_mode": {
    "name": "ipython",
    "version": 3
   },
   "file_extension": ".py",
   "mimetype": "text/x-python",
   "name": "python",
   "nbconvert_exporter": "python",
   "pygments_lexer": "ipython3",
   "version": "3.9.1"
  }
 },
 "nbformat": 4,
 "nbformat_minor": 5
}
